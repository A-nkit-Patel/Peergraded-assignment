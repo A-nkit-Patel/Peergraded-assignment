{
 "cells": [
  {
   "cell_type": "markdown",
   "id": "f41e8cbf",
   "metadata": {},
   "source": [
    "# 1. My Jupyter Notebook \n"
   ]
  },
  {
   "cell_type": "markdown",
   "id": "cc8d9edc",
   "metadata": {},
   "source": [
    "## 2. Sorathiya Ankit <br> \n",
    "       I am currently working in pharmaceutical frim."
   ]
  },
  {
   "cell_type": "markdown",
   "id": "366e4ff8",
   "metadata": {},
   "source": [
    "_3. \n",
    "\"I am interested in sciencedata  because ...\"_"
   ]
  },
  {
   "cell_type": "markdown",
   "id": "7f80713f",
   "metadata": {},
   "source": [
    "### 4. In the cell 5 when we input the code (Ex. 1+1) after than run the code we get out put of the code will 2\n"
   ]
  },
  {
   "cell_type": "code",
   "execution_count": 4,
   "id": "9dcd25de",
   "metadata": {},
   "outputs": [
    {
     "data": {
      "text/plain": [
       "2"
      ]
     },
     "execution_count": 4,
     "metadata": {},
     "output_type": "execute_result"
    }
   ],
   "source": [
    "1+1"
   ]
  },
  {
   "cell_type": "markdown",
   "id": "b9362553",
   "metadata": {},
   "source": [
    "# 6. 1.(Bullets)\n",
    "\n",
    "* This is Bullate\n",
    "- This ir Bullate2\n",
    "   - This is sub Bullete\n",
    "   * This is sub Bullete\n",
    "   \n",
    "## 2.Number List\n",
    " \n",
    " 1. line Number 1\n",
    " 2. Line Number 2\n",
    "   1. This is subline1\n",
    "   2. This is subline2\n",
    "   \n",
    "## 3. Mathematical Symbol\n",
    "\n",
    "Use this code to Mathametical symbol <br>\n",
    "500$+$1525$=$2025 <br>\n",
    "200$*$10$=$2000\n",
    "\n",
    "## 4. Indented quoting\n",
    "\n",
    "> This is 1st line of bolckquotes <br>\n",
    "  This is 2nd line of bolckquotes\n",
    "  \n",
    "> This is 1st line of 2nd bolckquotes  <br>\n",
    "  This is 2nd line of 2nd bolckquotes\n",
    "  \n",
    "## 5. Line breaks:\n",
    "\n",
    "This is line break1 <br>\n",
    "This is line break2 <br>\n",
    "This is line break3\n",
    "\n",
    "## 6. image\n",
    "![download.png](attechment:download.png)\n",
    "\n",
    "## 7. Links:\n",
    "use this code and test all links! [link text](http://url)\n",
    "\n",
    "[click here to google transelater](https://www.google.com/search?client=avast-a-1&q=translate&oq=tr&aqs=avast.1.69i57j0j69i59j0l4j69i61.8041j0j1&ie=UTF-8)"
   ]
  },
  {
   "cell_type": "markdown",
   "id": "a7ae003d",
   "metadata": {},
   "source": []
  }
 ],
 "metadata": {
  "kernelspec": {
   "display_name": "Python 3 (ipykernel)",
   "language": "python",
   "name": "python3"
  },
  "language_info": {
   "codemirror_mode": {
    "name": "ipython",
    "version": 3
   },
   "file_extension": ".py",
   "mimetype": "text/x-python",
   "name": "python",
   "nbconvert_exporter": "python",
   "pygments_lexer": "ipython3",
   "version": "3.9.12"
  }
 },
 "nbformat": 4,
 "nbformat_minor": 5
}
